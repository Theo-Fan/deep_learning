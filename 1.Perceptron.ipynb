{
 "cells": [
  {
   "cell_type": "markdown",
   "id": "4c7c19d1-3dc1-4c9a-adfd-973dbadae4ff",
   "metadata": {},
   "source": [
    "## 描述\n",
    "\n",
    "- 对于一个输入，当其达到阈值是，产生输出信号（1），否则不产生输出信号（0）"
   ]
  },
  {
   "cell_type": "code",
   "execution_count": 1,
   "id": "57c8efca-5ce3-457e-84e7-b343bb0462d5",
   "metadata": {},
   "outputs": [],
   "source": [
    "import numpy as np"
   ]
  },
  {
   "cell_type": "code",
   "execution_count": 2,
   "id": "6e24b687-e9d7-4937-a0dd-8e5d7aa72240",
   "metadata": {},
   "outputs": [],
   "source": [
    "def AND(x1, x2): # AND Gate\n",
    "    w1, w2, theta = 0.5, 0.5, 0.7\n",
    "    t = w1 * x1 + w2 * x2\n",
    "    if t > theta: return 1\n",
    "    else: return 0"
   ]
  },
  {
   "cell_type": "code",
   "execution_count": 3,
   "id": "eeed1d17-f044-4e28-9b6d-1ddb441a314a",
   "metadata": {},
   "outputs": [
    {
     "name": "stdout",
     "output_type": "stream",
     "text": [
      "0\n",
      "0\n",
      "0\n",
      "1\n"
     ]
    }
   ],
   "source": [
    "print(AND(0, 0)) #  0 \n",
    "print(AND(1, 0)) #  0 \n",
    "print(AND(0, 1)) #  0 \n",
    "print(AND(1, 1)) #  1"
   ]
  },
  {
   "cell_type": "code",
   "execution_count": 4,
   "id": "63d8259f-36f5-48b7-885e-b6ecc87ffbca",
   "metadata": {},
   "outputs": [
    {
     "name": "stdout",
     "output_type": "stream",
     "text": [
      "[0.  0.5]\n",
      "0.5\n",
      "-0.19999999999999996\n"
     ]
    }
   ],
   "source": [
    "x = np.array([0, 1])\n",
    "w = np.array([0.5, 0.5]) # weight\n",
    "b = -0.7 # bias\n",
    "\n",
    "print(w * x)\n",
    "print(np.sum(w * x))\n",
    "print(np.sum(w * x) + b)"
   ]
  },
  {
   "cell_type": "code",
   "execution_count": 5,
   "id": "766e0c2d-f935-41ed-b433-1d7aa3199b0d",
   "metadata": {},
   "outputs": [],
   "source": [
    "# import weight and bias implement AND Gate\n",
    "def AND(x1, x2):\n",
    "    x = np.array([x1, x2])\n",
    "    w = np.array([0.5, 0.5])\n",
    "    b = -0.7\n",
    "    \n",
    "    tmp = np.sum(x * w) + b\n",
    "    if tmp <= 0: # replace theta by bias [moving bias to left of equation, so only need to judge 0]\n",
    "        return 0\n",
    "    else: return 1"
   ]
  },
  {
   "cell_type": "code",
   "execution_count": 6,
   "id": "714ddb89-281e-4542-b541-c8b680794cc0",
   "metadata": {},
   "outputs": [],
   "source": [
    "def NAND(x1, x2):\n",
    "    x = np.array([x1, x2])\n",
    "    w = np.array([-0.5, -0.5]) # only weight and bias are different.\n",
    "    b = 0.7\n",
    "    \n",
    "    tmp = np.sum(w * x) + b\n",
    "    if tmp <= 0: return 0 \n",
    "    else: return 1"
   ]
  },
  {
   "cell_type": "code",
   "execution_count": 7,
   "id": "3acfa0b6-0b5c-4ed5-ab32-73e5c89bc535",
   "metadata": {},
   "outputs": [],
   "source": [
    "def OR(x1, x2):\n",
    "    x = np.array([x1, x2])\n",
    "    w = np.array([0.5, 0.5]) # 仅权重和偏置与AND不同！\n",
    "    b = -0.2\n",
    "    \n",
    "    tmp = np.sum(w * x) + b\n",
    "    if tmp <= 0: return 0\n",
    "    else: return 1"
   ]
  },
  {
   "cell_type": "markdown",
   "id": "fb9d478c-42ee-4dd1-88f7-312777da1ec0",
   "metadata": {},
   "source": [
    "#### 下面给出OR运算在坐标轴上的表示：\n",
    "</br>\n",
    "<img src=\"img/perceptron/OR_Gate.png\" alt=\"OR\" width=\"500\" height=\"500\">\n",
    "</br>其中，三角形表示结果为 1， 圆形表示结果为 0"
   ]
  },
  {
   "cell_type": "markdown",
   "id": "7d98f02c-f371-4640-869e-9c9b4b50b38c",
   "metadata": {},
   "source": [
    "由上图可见，可以通过一条线性函数将分割两种不同类型的点。同理，下面为 XOR 运算的坐标表示。</br>\n",
    "<img src=\"img/perceptron/XOR_Gate.png\" alt=\"OR\" width=\"500\" height=\"500\"></br>\n",
    "在该例子中，无论如何使用什么线性函数都不能将两种不同类型的节点进行划分，只能通过曲线【非线性函数】进行分类"
   ]
  },
  {
   "cell_type": "markdown",
   "id": "5ddb9580-0535-49ea-a3c4-6bbcb87eaee4",
   "metadata": {},
   "source": [
    "#### XOR 逻辑电路表达\n",
    "<img src=\"img/perceptron/label_of_logical.png\" alt=\"OR\" width=\"700\" height=\"500\"></br>\n",
    "<img src=\"img/perceptron/XOR_label.png\" alt=\"OR\" width=\"800\" height=\"500\"></br>\n",
    "#### XOR 感知机表达\n",
    "<img src=\"img/perceptron/XOR_perceptron.png\" alt=\"OR\" width=\"800\" height=\"500\"></br>"
   ]
  },
  {
   "cell_type": "code",
   "execution_count": 8,
   "id": "368eff18-99f4-4f81-87cd-2a514d6cd0ba",
   "metadata": {},
   "outputs": [],
   "source": [
    "def XOR(x1, x2):\n",
    "    s1 = NAND(x1, x2)\n",
    "    s2 = OR(x1, x2)\n",
    "    y = AND(s1, s2)\n",
    "    return y"
   ]
  },
  {
   "cell_type": "code",
   "execution_count": 9,
   "id": "e447fb18-50d7-4b66-b828-5089768b797c",
   "metadata": {},
   "outputs": [
    {
     "name": "stdout",
     "output_type": "stream",
     "text": [
      "0\n",
      "1\n",
      "1\n",
      "0\n"
     ]
    }
   ],
   "source": [
    "print(XOR(0, 0)) # 0 \n",
    "print(XOR(1, 0)) # 1 \n",
    "print(XOR(0, 1)) # 1 \n",
    "print(XOR(1, 1)) # 0"
   ]
  },
  {
   "cell_type": "markdown",
   "id": "8a7727e3-3e6f-424a-8a92-bc845ec36197",
   "metadata": {},
   "source": [
    "## Summary\n",
    "- 异或门无法通过单层感知机来表示,而需要使用**二层感知机**进行表示\n",
    "- 由于计算机是由上述逻辑电路构成, 因此在理论上, 同样,可以使用感知机来表示计算机(多层感知机(在理论上)可以表示计算机)\n",
    "- **单层感知机只能表示线性空间, 而多层感知机可以表示非线性空间**\n"
   ]
  },
  {
   "cell_type": "code",
   "execution_count": null,
   "id": "a0e82fdc-b0ce-419d-bdcd-b3437d8fef0c",
   "metadata": {},
   "outputs": [],
   "source": []
  },
  {
   "cell_type": "code",
   "execution_count": null,
   "id": "9bc9931d-0fc7-49ec-a341-f184e0a72c5b",
   "metadata": {},
   "outputs": [],
   "source": []
  },
  {
   "cell_type": "code",
   "execution_count": null,
   "id": "e33943ed-1037-45de-b7ed-b6b9d097ed73",
   "metadata": {},
   "outputs": [],
   "source": []
  },
  {
   "cell_type": "code",
   "execution_count": null,
   "id": "0f8d87c9-ba1f-4e65-a50a-d50114570e6b",
   "metadata": {},
   "outputs": [],
   "source": []
  }
 ],
 "metadata": {
  "kernelspec": {
   "display_name": "Python 3 (ipykernel)",
   "language": "python",
   "name": "python3"
  },
  "language_info": {
   "codemirror_mode": {
    "name": "ipython",
    "version": 3
   },
   "file_extension": ".py",
   "mimetype": "text/x-python",
   "name": "python",
   "nbconvert_exporter": "python",
   "pygments_lexer": "ipython3",
   "version": "3.11.9"
  }
 },
 "nbformat": 4,
 "nbformat_minor": 5
}
