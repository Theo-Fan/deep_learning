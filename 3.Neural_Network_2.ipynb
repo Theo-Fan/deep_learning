{
 "cells": [
  {
   "cell_type": "markdown",
   "id": "2b9b657c-9114-4080-8d9c-4021d83379cf",
   "metadata": {},
   "source": [
    "### 对于一个图像识别的问题\n",
    "\n",
    "<img src=\"img/neural_network/nn_to_classfy.png\"  width=\"500\" height=\"500\"></br>"
   ]
  },
  {
   "cell_type": "code",
   "execution_count": null,
   "id": "4a7d745a-2b0a-4be7-a2b3-7a809e23dc92",
   "metadata": {},
   "outputs": [],
   "source": []
  }
 ],
 "metadata": {
  "kernelspec": {
   "display_name": "Python 3 (ipykernel)",
   "language": "python",
   "name": "python3"
  },
  "language_info": {
   "codemirror_mode": {
    "name": "ipython",
    "version": 3
   },
   "file_extension": ".py",
   "mimetype": "text/x-python",
   "name": "python",
   "nbconvert_exporter": "python",
   "pygments_lexer": "ipython3",
   "version": "3.11.9"
  }
 },
 "nbformat": 4,
 "nbformat_minor": 5
}
